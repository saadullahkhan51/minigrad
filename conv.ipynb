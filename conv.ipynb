{
 "cells": [
  {
   "cell_type": "code",
   "execution_count": 37,
   "metadata": {},
   "outputs": [],
   "source": [
    "from tensor import Tensor\n",
    "import numpy as np"
   ]
  },
  {
   "cell_type": "code",
   "execution_count": 31,
   "metadata": {},
   "outputs": [
    {
     "data": {
      "text/plain": [
       "Tensor:(data = [14. 20. 26.])"
      ]
     },
     "execution_count": 31,
     "metadata": {},
     "output_type": "execute_result"
    }
   ],
   "source": [
    "x = Tensor([[1], [2], [3], [4], [5]])\n",
    "\n",
    "kernel = Tensor([[1], [2], [3]])\n",
    "\n",
    "y = x.conv1d(kernel)\n",
    "\n",
    "y"
   ]
  },
  {
   "cell_type": "code",
   "execution_count": 10,
   "metadata": {},
   "outputs": [
    {
     "data": {
      "text/plain": [
       "Tensor:(data = [14. 20. 26.])"
      ]
     },
     "execution_count": 10,
     "metadata": {},
     "output_type": "execute_result"
    }
   ],
   "source": [
    "# suppose a 1d signal S and kernal k\n",
    "S = np.array([2, 3, 1, 2, 3])\n",
    "k = np.array([2, 1, 1])\n",
    "\n",
    "# perform 1d conv to get result R\n",
    "# R should be same as k if no padding\n",
    "# i = 0\n",
    "# j = len(k)\n",
    "# R = []\n",
    "# while j <= len(S):\n",
    "#     prod = np.dot(S[i:j], k)\n",
    "#     R.append(prod)\n",
    "#     i += 1\n",
    "#     j += 1\n",
    "# R = np.array(R)\n",
    "# R\n",
    "\n",
    "# \"In general, if we have an N×N filter, a W×H image, and stride S there are (W-N) //S + 1 places to apply the filter ...\"\n",
    "\n",
    "S = Tensor([[1], [2], [3], [4], [5]]) # (5, 1)\n",
    "S2 = Tensor([1, 2, 3, 4, 5]) \n",
    "k = Tensor([[1], [2], [3]]) # (3, 1)\n",
    "k2 = Tensor([1, 2, 3]) \n",
    "s = 1 # stride\n",
    "R_shape = (S.shape[0] - k.shape[0]) // s + 1\n",
    "R = Tensor(np.zeros(R_shape))\n",
    "R2 = Tensor(np.zeros(R_shape))\n",
    "# for the conv operation, slide k over S\n",
    "for i in range(0, S.shape[0] - k.shape[0] + 1, s):\n",
    "    R.data[i] = (S.data[i: i+k.shape[0]] * k.data).sum()\n",
    "\n",
    "for i in range(0, S2.shape[0] - k2.shape[0] + 1, s):\n",
    "    R2.data[i] = (S2.data[i: i+k2.shape[0]] * k2.data).sum()\n",
    "    \n",
    "R2"
   ]
  },
  {
   "cell_type": "code",
   "execution_count": 66,
   "metadata": {},
   "outputs": [
    {
     "data": {
      "text/plain": [
       "Tensor:(data = [[37. 47.]\n",
       " [67. 77.]])"
      ]
     },
     "execution_count": 66,
     "metadata": {},
     "output_type": "execute_result"
    }
   ],
   "source": [
    "# Implementing a 2d convolution for conv2d layer\n",
    "\n",
    "S3 = Tensor([[1, 2, 3], [4, 5, 6], [7, 8, 9]])\n",
    "k3 = Tensor([[1, 2], [3, 4]])\n",
    "fm_shape = ((S3.shape[0] - k3.shape[0]) // s + 1, (S3.shape[1] - k3.shape[1]) // s + 1)\n",
    "fm = Tensor(np.zeros(fm_shape))\n",
    "# fm.data[0][0] = (S3.data[0:2, 0:2] * k3.data).sum()\n",
    "# fm.data[0][1] = (S3.data[0:2, 1:3] * k3.data).sum()\n",
    "# fm.data[1][0] = (S3.data[1:3, 0:2] * k3.data).sum()\n",
    "# fm.data[1][1] = (S3.data[1:3, 1:3]  * k3.data).sum()\n",
    "\n",
    "# fm.data[i][j] = (S3.data[i:i+k3.shape[0], j:j+k3.shape[0]] * k3.data).sum()\n",
    "\n",
    "# the indexing seems to be working\n",
    "for i in range(0, fm_shape[1], s):\n",
    "    for j in range(0, fm_shape[0], s):\n",
    "        fm.data[i][j] = (S3.data[i:i+k3.shape[0], j:j+k3.shape[0]] * k3.data).sum()\n",
    "        \n",
    "# S3.data[0:2, 1:3], S3.data[1:3, 0:2], S3.data[1:3, 1:3]\n",
    "fm"
   ]
  },
  {
   "cell_type": "code",
   "execution_count": 72,
   "metadata": {},
   "outputs": [
    {
     "data": {
      "text/plain": [
       "Tensor:(data = [[37. 47.]\n",
       " [67. 77.]])"
      ]
     },
     "execution_count": 72,
     "metadata": {},
     "output_type": "execute_result"
    }
   ],
   "source": [
    "def conv2dd(signal, kernel, stride=1):\n",
    "    out_shape = ((signal.shape[0] - kernel.shape[0]) // stride + 1, (signal.shape[1] - kernel.shape[1]) // stride + 1)\n",
    "    output = Tensor(np.zeros(out_shape))\n",
    "    # fm.data[0][0] = (S3.data[0][0:2] * k3.data[0]).sum() + (S3.data[1][0:2] * k3.data[1]).sum()\n",
    "    # fm.data[0][1] = (S3.data[0][1:3] * k3.data[0]).sum() + (S3.data[1][1:3] * k3.data[1]).sum()\n",
    "    # fm.data[1][0] = (S3.data[1][0:2] * k3.data[0]).sum() + (S3.data[2][0:2] * k3.data[1]).sum()\n",
    "    # fm.data[1][1] = (S3.data[1][1:3] * k3.data[0]).sum() + (S3.data[2][1:3] * k3.data[1]).sum()\n",
    "\n",
    "    #fm.data[i][j] = (S3.data[i][j:j+k3.shape[0]] * k3.data[0]).sum() + (S3.data[i+1][j:j+k3.shape[0]] * k3.data[1]).sum()\n",
    "\n",
    "    # the indexing seems to be working, hardcoded for a 2x2 filter/kernel\n",
    "    for i in range(0, out_shape[1], stride):\n",
    "        for j in range(0, out_shape[0], stride):\n",
    "            output.data[i][j] = (signal.data[i:i+kernel.shape[0], j:j+kernel.shape[0]] * kernel.data).sum()\n",
    "    return output\n",
    "signal = Tensor([[1, 2, 3], [4, 5, 6], [7, 8, 9]])\n",
    "kernel = Tensor([[1, 2], [3, 4]])\n",
    "\n",
    "feature_map = conv2dd(signal, kernel)\n",
    "fm2 = conv2dd(signal, kernel)\n",
    "feature_map"
   ]
  },
  {
   "cell_type": "code",
   "execution_count": 71,
   "metadata": {},
   "outputs": [
    {
     "data": {
      "text/plain": [
       "Tensor:(data = [[0. 0.]\n",
       " [0. 0.]])"
      ]
     },
     "execution_count": 71,
     "metadata": {},
     "output_type": "execute_result"
    }
   ],
   "source": [
    "signal = Tensor([[1, 2, 3], [4, 5, 6], [7, 8, 9]])\n",
    "kernel = Tensor([[1, 2], [3, 4]])\n",
    "\n",
    "feature_map = conv2dd(signal, kernel)\n",
    "fm2 = conv2dd(signal, kernel)\n",
    "feature_map"
   ]
  },
  {
   "cell_type": "code",
   "execution_count": 39,
   "metadata": {},
   "outputs": [
    {
     "data": {
      "text/plain": [
       "array([14., 14., 14.])"
      ]
     },
     "execution_count": 39,
     "metadata": {},
     "output_type": "execute_result"
    }
   ],
   "source": [
    "a = np.array([[1], [2], [3]])\n",
    "b = np.array([[1], [2], [3], [4], [5]])\n",
    "a.shape, b.shape, b[0]\n",
    "shp = (b.shape[0] - a.shape[0]) + 1\n",
    "c = np.zeros(shp)\n",
    "c += (b[0:3] * a).sum()\n",
    "c"
   ]
  },
  {
   "cell_type": "code",
   "execution_count": null,
   "metadata": {},
   "outputs": [],
   "source": [
    "def conv1d(self, kernel, stride=1):\n",
    "    # Initialize the output tensor with the appropriate shape\n",
    "    output_shape = (self.shape[0] - kernel.shape[0]) // stride + 1\n",
    "    output = Tensor(np.zeros(output_shape), [self, kernel])\n",
    "\n",
    "    # Slide the kernel over the input tensor and perform the convolution operation\n",
    "    for i in range(0, self.shape[0] - kernel.shape[0] + 1, stride):\n",
    "        output.data[i] = (self.data[i:i+kernel.shape[0]] * kernel.data).sum()\n",
    "\n",
    "    # Define the backward pass for the convolution operation\n",
    "    def backward():\n",
    "        # Compute the gradients of the input and kernel tensors\n",
    "        self.grad += kernel.data * output.grad\n",
    "        kernel.grad += self.data[:output.shape[0]] * output.grad\n",
    "\n",
    "        # Zero out the gradients of the padded elements\n",
    "        self.grad[kernel.shape[0]:] = 0\n",
    "    output.backward = backward\n",
    "\n",
    "    return output\n",
    "\n",
    "\n",
    "# Create an input tensor with shape (5, 1)\n",
    "x = Tensor([[1], [2], [3], [4], [5]])\n",
    "\n",
    "# Create a kernel tensor with shape (3, 1)\n",
    "kernel = Tensor([[1], [2], [3]])\n",
    "\n",
    "# Perform the convolution with stride size 1\n",
    "y = x.conv1d(kernel)\n",
    "\n",
    "# Print the output tensor\n",
    "print(y)\n"
   ]
  }
 ],
 "metadata": {
  "kernelspec": {
   "display_name": "Python 3",
   "language": "python",
   "name": "python3"
  },
  "language_info": {
   "codemirror_mode": {
    "name": "ipython",
    "version": 3
   },
   "file_extension": ".py",
   "mimetype": "text/x-python",
   "name": "python",
   "nbconvert_exporter": "python",
   "pygments_lexer": "ipython3",
   "version": "3.7.6"
  }
 },
 "nbformat": 4,
 "nbformat_minor": 4
}
